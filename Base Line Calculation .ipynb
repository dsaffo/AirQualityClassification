{
 "cells": [
  {
   "cell_type": "code",
   "execution_count": 12,
   "metadata": {
    "collapsed": false
   },
   "outputs": [],
   "source": [
    "import numpy as np\n",
    "import pandas as pd"
   ]
  },
  {
   "cell_type": "code",
   "execution_count": 13,
   "metadata": {
    "collapsed": false
   },
   "outputs": [
    {
     "name": "stdout",
     "output_type": "stream",
     "text": [
      "Good: 23 / Moderate: 208 / Sensitive: 96 / Unhealthy: 37 / Very Unhealthy: 1\n",
      "56.986301369863014\n"
     ]
    }
   ],
   "source": [
    "data = pd.read_csv('LosAngeles.csv',header = None)\n",
    "Class = data.ix[1:len(data),4].values \n",
    "\n",
    "good=0 \n",
    "moderate=0 \n",
    "sen=0 \n",
    "unhealthy = 0\n",
    "vunhealthy = 0\n",
    "for i in Class:\n",
    "    if (i == \"GOOD\"):\n",
    "        good+=1\n",
    "    elif (i == \"MODERATE\"):\n",
    "        moderate+=1\n",
    "    elif (i == \"UNHEALTHY FOR SENSITIVE GROUPS\"):\n",
    "        sen+=1\n",
    "    elif (i == \"UNHEALTHY\"):\n",
    "        unhealthy+=1\n",
    "    elif (i == \"VERY UNHEALTHY\"):\n",
    "        vunhealthy+=1\n",
    "        \n",
    "        \n",
    "print (\"Good:\",good, \"/ Moderate:\", moderate, \"/ Sensitive:\",sen,\"/ Unhealthy:\",unhealthy, \"/ Very Unhealthy:\",vunhealthy)       \n",
    "print (moderate/len(Class) * 100)\n",
    "LosAngeles = moderate/len(Class) * 100\n"
   ]
  },
  {
   "cell_type": "code",
   "execution_count": 14,
   "metadata": {
    "collapsed": false
   },
   "outputs": [
    {
     "name": "stdout",
     "output_type": "stream",
     "text": [
      "Good: 116 / Moderate: 235 / Sensitive: 11 / Unhealthy: 3 / Very Unhealthy: 0\n",
      "64.38356164383562\n"
     ]
    }
   ],
   "source": [
    "data = pd.read_csv('Chicago.csv',header = None)\n",
    "Class = data.ix[1:len(data),4].values \n",
    "good=0 \n",
    "moderate=0 \n",
    "sen=0 \n",
    "unhealthy = 0\n",
    "vunhealthy = 0\n",
    "for i in Class:\n",
    "    if (i == \"GOOD\"):\n",
    "        good+=1\n",
    "    elif (i == \"MODERATE\"):\n",
    "        moderate+=1\n",
    "    elif (i == \"UNHEALTHY FOR SENSITIVE GROUPS\"):\n",
    "        sen+=1\n",
    "    elif (i == \"UNHEALTHY\"):\n",
    "        unhealthy+=1\n",
    "    elif (i == \"VERY UNHEALTHY\"):\n",
    "        vunhealthy+=1\n",
    "        \n",
    "        \n",
    "print (\"Good:\",good, \"/ Moderate:\", moderate, \"/ Sensitive:\",sen,\"/ Unhealthy:\",unhealthy, \"/ Very Unhealthy:\",vunhealthy)  \n",
    "print (moderate/len(Class) * 100)\n",
    "Chicago = moderate/len(Class) * 100"
   ]
  },
  {
   "cell_type": "code",
   "execution_count": 15,
   "metadata": {
    "collapsed": false
   },
   "outputs": [
    {
     "name": "stdout",
     "output_type": "stream",
     "text": [
      "Good: 84 / Moderate: 255 / Sensitive: 24 / Unhealthy: 2 / Very Unhealthy: 0\n",
      "69.86301369863014\n"
     ]
    }
   ],
   "source": [
    "data = pd.read_csv('Denver.csv',header = None)\n",
    "Class = data.ix[1:len(data),4].values \n",
    "good=0 \n",
    "moderate=0 \n",
    "sen=0 \n",
    "unhealthy = 0\n",
    "vunhealthy = 0\n",
    "for i in Class:\n",
    "    if (i == \"GOOD\"):\n",
    "        good+=1\n",
    "    elif (i == \"MODERATE\"):\n",
    "        moderate+=1\n",
    "    elif (i == \"UNHEALTHY FOR SENSITIVE GROUPS\"):\n",
    "        sen+=1\n",
    "    elif (i == \"UNHEALTHY\"):\n",
    "        unhealthy+=1\n",
    "    elif (i == \"VERY UNHEALTHY\"):\n",
    "        vunhealthy+=1\n",
    "        \n",
    "        \n",
    "print (\"Good:\",good, \"/ Moderate:\", moderate, \"/ Sensitive:\",sen,\"/ Unhealthy:\",unhealthy, \"/ Very Unhealthy:\",vunhealthy)   \n",
    "print (moderate/len(Class) * 100)\n",
    "Denver = moderate/len(Class) * 100"
   ]
  },
  {
   "cell_type": "code",
   "execution_count": 16,
   "metadata": {
    "collapsed": false
   },
   "outputs": [
    {
     "name": "stdout",
     "output_type": "stream",
     "text": [
      "Good: 258 / Moderate: 106 / Sensitive: 1 / Unhealthy: 0 / Very Unhealthy: 0\n",
      "70.68493150684931\n"
     ]
    }
   ],
   "source": [
    "data = pd.read_csv('Miami.csv',header = None)\n",
    "Class = data.ix[1:len(data),4].values \n",
    "good=0 \n",
    "moderate=0 \n",
    "sen=0 \n",
    "unhealthy = 0\n",
    "vunhealthy = 0\n",
    "\n",
    "for i in Class:\n",
    "    if (i == \"GOOD\"):\n",
    "        good+=1\n",
    "    elif (i == \"MODERATE\"):\n",
    "        moderate+=1\n",
    "    elif (i == \"UNHEALTHY FOR SENSITIVE GROUPS\"):\n",
    "        sen+=1\n",
    "    elif (i == \"UNHEALTHY\"):\n",
    "        unhealthy+=1\n",
    "    elif (i == \"VERY UNHEALTHY\"):\n",
    "        vunhealthy+=1\n",
    "    \n",
    "        \n",
    "        \n",
    "print (\"Good:\",good, \"/ Moderate:\", moderate, \"/ Sensitive:\",sen,\"/ Unhealthy:\",unhealthy, \"/ Very Unhealthy:\",vunhealthy) \n",
    "print (good/len(Class) * 100)\n",
    "Miami = good/len(Class) * 100"
   ]
  },
  {
   "cell_type": "code",
   "execution_count": 17,
   "metadata": {
    "collapsed": false
   },
   "outputs": [
    {
     "name": "stdout",
     "output_type": "stream",
     "text": [
      "Good: 134 / Moderate: 193 / Sensitive: 35 / Unhealthy: 3 / Very Unhealthy: 0\n",
      "52.87671232876713\n"
     ]
    }
   ],
   "source": [
    "data = pd.read_csv('NewYork.csv',header = None)\n",
    "Class = data.ix[1:len(data),4].values \n",
    "good=0 \n",
    "moderate=0 \n",
    "sen=0 \n",
    "unhealthy = 0\n",
    "vunhealthy = 0\n",
    "for i in Class:\n",
    "    if (i == \"GOOD\"):\n",
    "        good+=1\n",
    "    elif (i == \"MODERATE\"):\n",
    "        moderate+=1\n",
    "    elif (i == \"UNHEALTHY FOR SENSITIVE GROUPS\"):\n",
    "        sen+=1\n",
    "    elif (i == \"UNHEALTHY\"):\n",
    "        unhealthy+=1\n",
    "    elif (i == \"VERY UNHEALTHY\"):\n",
    "        vunhealthy+=1\n",
    "        \n",
    "        \n",
    "print (\"Good:\",good, \"/ Moderate:\", moderate, \"/ Sensitive:\",sen,\"/ Unhealthy:\",unhealthy, \"/ Very Unhealthy:\",vunhealthy)    \n",
    "print (moderate/len(Class) * 100)\n",
    "NewYork = moderate/len(Class) * 100"
   ]
  }
 ],
 "metadata": {
  "anaconda-cloud": {},
  "kernelspec": {
   "display_name": "Python [conda root]",
   "language": "python",
   "name": "conda-root-py"
  },
  "language_info": {
   "codemirror_mode": {
    "name": "ipython",
    "version": 3
   },
   "file_extension": ".py",
   "mimetype": "text/x-python",
   "name": "python",
   "nbconvert_exporter": "python",
   "pygments_lexer": "ipython3",
   "version": "3.5.2"
  }
 },
 "nbformat": 4,
 "nbformat_minor": 1
}

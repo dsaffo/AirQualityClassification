{
 "cells": [
  {
   "cell_type": "code",
   "execution_count": 1,
   "metadata": {
    "collapsed": false
   },
   "outputs": [],
   "source": [
    "import numpy as np\n",
    "import pandas as pd"
   ]
  },
  {
   "cell_type": "code",
   "execution_count": 2,
   "metadata": {
    "collapsed": false
   },
   "outputs": [
    {
     "name": "stdout",
     "output_type": "stream",
     "text": [
      "good: 23 / moderate: 208 / sensitive: 96 / unhealthy: 37 / very unhealthy: 1\n",
      "56.986301369863014\n"
     ]
    }
   ],
   "source": [
    "data = pd.read_csv('LosAngeles.csv',header = None)\n",
    "Class = data.ix[1:len(data),4].values \n",
    "\n",
    "good=0 \n",
    "moderate=0 \n",
    "sen=0 \n",
    "unhealthy = 0\n",
    "vunhealthy = 0\n",
    "for i in Class:\n",
    "    if (i == \"GOOD\"):\n",
    "        good+=1\n",
    "    elif (i == \"MODERATE\"):\n",
    "        moderate+=1\n",
    "    elif (i == \"UNHEALTHY FOR SENSITIVE GROUPS\"):\n",
    "        sen+=1\n",
    "    elif (i == \"UNHEALTHY\"):\n",
    "        unhealthy+=1\n",
    "    elif (i == \"VERY UNHEALTHY\"):\n",
    "        vunhealthy+=1\n",
    "        \n",
    "        \n",
    "print (\"good:\",good, \"/ moderate:\", moderate, \"/ sensitive:\",sen, \"/ unhealthy:\",unhealthy, \"/ very unhealthy:\",vunhealthy)       \n",
    "print (moderate/len(Class) * 100)\n",
    "LosAngeles = moderate/len(Class) * 100\n"
   ]
  },
  {
   "cell_type": "code",
   "execution_count": 3,
   "metadata": {
    "collapsed": false
   },
   "outputs": [
    {
     "name": "stdout",
     "output_type": "stream",
     "text": [
      "good: 116 / moderate: 235 / sensitive: 11 / unhealthy: 3 / very unhealthy: 0\n",
      "64.38356164383562\n"
     ]
    }
   ],
   "source": [
    "data = pd.read_csv('Chicago.csv',header = None)\n",
    "Class = data.ix[1:len(data),4].values \n",
    "good=0 \n",
    "moderate=0 \n",
    "sen=0 \n",
    "unhealthy = 0\n",
    "vunhealthy = 0\n",
    "for i in Class:\n",
    "    if (i == \"GOOD\"):\n",
    "        good+=1\n",
    "    elif (i == \"MODERATE\"):\n",
    "        moderate+=1\n",
    "    elif (i == \"UNHEALTHY FOR SENSITIVE GROUPS\"):\n",
    "        sen+=1\n",
    "    elif (i == \"UNHEALTHY\"):\n",
    "        unhealthy+=1\n",
    "    elif (i == \"VERY UNHEALTHY\"):\n",
    "        vunhealthy+=1\n",
    "        \n",
    "        \n",
    "print (\"good:\",good, \"/ moderate:\", moderate,\"/ sensitive:\",sen, \"/ unhealthy:\",unhealthy, \"/ very unhealthy:\",vunhealthy)    \n",
    "print (moderate/len(Class) * 100)\n",
    "Chicago = moderate/len(Class) * 100"
   ]
  },
  {
   "cell_type": "code",
   "execution_count": 4,
   "metadata": {
    "collapsed": false
   },
   "outputs": [
    {
     "name": "stdout",
     "output_type": "stream",
     "text": [
      "good: 84 / moderate: 255 / sensitive: 24 / unhealthy: 2 / very unhealthy: 0\n",
      "69.86301369863014\n"
     ]
    }
   ],
   "source": [
    "data = pd.read_csv('Denver.csv',header = None)\n",
    "Class = data.ix[1:len(data),4].values \n",
    "good=0 \n",
    "moderate=0 \n",
    "sen=0 \n",
    "unhealthy = 0\n",
    "vunhealthy = 0\n",
    "for i in Class:\n",
    "    if (i == \"GOOD\"):\n",
    "        good+=1\n",
    "    elif (i == \"MODERATE\"):\n",
    "        moderate+=1\n",
    "    elif (i == \"UNHEALTHY FOR SENSITIVE GROUPS\"):\n",
    "        sen+=1\n",
    "    elif (i == \"UNHEALTHY\"):\n",
    "        unhealthy+=1\n",
    "    elif (i == \"VERY UNHEALTHY\"):\n",
    "        vunhealthy+=1\n",
    "        \n",
    "        \n",
    "print (\"good:\",good, \"/ moderate:\", moderate, \"/ sensitive:\",sen, \"/ unhealthy:\",unhealthy, \"/ very unhealthy:\",vunhealthy)    \n",
    "print (moderate/len(Class) * 100)\n",
    "Denver = moderate/len(Class) * 100"
   ]
  },
  {
   "cell_type": "code",
   "execution_count": 5,
   "metadata": {
    "collapsed": false
   },
   "outputs": [
    {
     "name": "stdout",
     "output_type": "stream",
     "text": [
      "good: 258 / moderate: 106 / sensitive: 1 / unhealthy: 0 / very unhealthy: 0\n",
      "70.68493150684931\n"
     ]
    }
   ],
   "source": [
    "data = pd.read_csv('Miami.csv',header = None)\n",
    "Class = data.ix[1:len(data),4].values \n",
    "good=0 \n",
    "moderate=0 \n",
    "sen=0 \n",
    "unhealthy = 0\n",
    "vunhealthy = 0\n",
    "\n",
    "for i in Class:\n",
    "    if (i == \"GOOD\"):\n",
    "        good+=1\n",
    "    elif (i == \"MODERATE\"):\n",
    "        moderate+=1\n",
    "    elif (i == \"UNHEALTHY FOR SENSITIVE GROUPS\"):\n",
    "        sen+=1\n",
    "    elif (i == \"UNHEALTHY\"):\n",
    "        unhealthy+=1\n",
    "    elif (i == \"VERY UNHEALTHY\"):\n",
    "        vunhealthy+=1\n",
    "    \n",
    "        \n",
    "        \n",
    "print (\"good:\",good, \"/ moderate:\", moderate, \"/ sensitive:\",sen, \"/ unhealthy:\",unhealthy, \"/ very unhealthy:\",vunhealthy)    \n",
    "print (good/len(Class) * 100)\n",
    "Miami = good/len(Class) * 100"
   ]
  },
  {
   "cell_type": "code",
   "execution_count": 6,
   "metadata": {
    "collapsed": false
   },
   "outputs": [
    {
     "name": "stdout",
     "output_type": "stream",
     "text": [
      "good: 134 / moderate: 193 / sensitive: 35 / unhealthy: 3 / very unhealthy: 0\n",
      "52.87671232876713\n"
     ]
    }
   ],
   "source": [
    "data = pd.read_csv('NewYork.csv',header = None)\n",
    "Class = data.ix[1:len(data),4].values \n",
    "good=0 \n",
    "moderate=0 \n",
    "sen=0 \n",
    "unhealthy = 0\n",
    "vunhealthy = 0\n",
    "for i in Class:\n",
    "    if (i == \"GOOD\"):\n",
    "        good+=1\n",
    "    elif (i == \"MODERATE\"):\n",
    "        moderate+=1\n",
    "    elif (i == \"UNHEALTHY FOR SENSITIVE GROUPS\"):\n",
    "        sen+=1\n",
    "    elif (i == \"UNHEALTHY\"):\n",
    "        unhealthy+=1\n",
    "    elif (i == \"VERY UNHEALTHY\"):\n",
    "        vunhealthy+=1\n",
    "        \n",
    "        \n",
    "print (\"good:\",good, \"/ moderate:\", moderate, \"/ sensitive:\",sen, \"/ unhealthy:\",unhealthy, \"/ very unhealthy:\",vunhealthy)    \n",
    "print (moderate/len(Class) * 100)\n",
    "NewYork = moderate/len(Class) * 100"
   ]
  },
  {
   "cell_type": "code",
   "execution_count": null,
   "metadata": {
    "collapsed": true
   },
   "outputs": [],
   "source": []
  }
 ],
 "metadata": {
  "anaconda-cloud": {},
  "kernelspec": {
   "display_name": "Python [conda root]",
   "language": "python",
   "name": "conda-root-py"
  },
  "language_info": {
   "codemirror_mode": {
    "name": "ipython",
    "version": 3
   },
   "file_extension": ".py",
   "mimetype": "text/x-python",
   "name": "python",
   "nbconvert_exporter": "python",
   "pygments_lexer": "ipython3",
   "version": "3.5.2"
  }
 },
 "nbformat": 4,
 "nbformat_minor": 1
}
